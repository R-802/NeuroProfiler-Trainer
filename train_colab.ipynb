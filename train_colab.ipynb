{
 "cells": [
  {
   "cell_type": "markdown",
   "metadata": {},
   "source": [
    "# NeuroProfiler Training on Google Colab\n",
    "\n",
    "This notebook sets up and runs NeuroProfiler training on Google Colab GPUs.\n",
    "\n",
    "## Setup Steps:\n",
    "1. Mount Google Drive\n",
    "2. Clone repository and install dependencies\n",
    "3. Configure training parameters\n",
    "4. Run training"
   ]
  },
  {
   "cell_type": "code",
   "execution_count": null,
   "metadata": {},
   "source": [
    "# Mount Google Drive\n",
    "from google.colab import drive\n",
    "drive.mount('/content/drive')"
   ]
  },
  {
   "cell_type": "code",
   "execution_count": null,
   "metadata": {},
   "source": [
    "# Install required packages\n",
    "!pip install torch torchaudio numpy optuna tensorboard librosa soundfile"
   ]
  },
  {
   "cell_type": "code",
   "execution_count": null,
   "metadata": {},
   "source": [
    "# Clone your repository (replace with your repo URL)\n",
    "!git clone https://github.com/your-username/NeuroProfiler.git\n",
    "%cd NeuroProfiler"
   ]
  },
  {
   "cell_type": "code",
   "execution_count": null,
   "metadata": {},
   "source": [
    "# Copy your data files to the appropriate location\n",
    "!mkdir -p data\n",
    "!cp /content/drive/MyDrive/path/to/your/audio/files/* data/"
   ]
  },
  {
   "cell_type": "code",
   "execution_count": null,
   "metadata": {},
   "source": [
    "# Modify the hardware config to use Colab GPU\n",
    "import json\n",
    "import torch\n",
    "\n",
    "with open(\"engine/config/config.json\", \"r\") as f:\n",
    "    config = json.load(f)\n",
    "\n",
    "# Update hardware configuration for Colab\n",
    "config[\"hardware\"] = {\n",
    "    \"num_workers\": 2,  # Colab typically has 2 CPU cores\n",
    "    \"mixed_precision\": True,\n",
    "    \"grad_clip\": 1.0,\n",
    "    \"accumulation_steps\": 1\n",
    "}\n",
    "\n",
    "# Save updated config\n",
    "with open(\"engine/config/config.json\", \"w\") as f:\n",
    "    json.dump(config, f, indent=4)\n",
    "\n",
    "print(f\"Using device: {torch.cuda.get_device_name(0) if torch.cuda.is_available() else 'CPU'}\")"
   ]
  },
  {
   "cell_type": "code",
   "execution_count": null,
   "metadata": {},
   "source": [
    "# Run training\n",
    "from core import main\n",
    "\n",
    "if __name__ == \"__main__\":\n",
    "    main()"
   ]
  },
  {
   "cell_type": "markdown",
   "metadata": {},
   "source": [
    "## Saving Results\n",
    "\n",
    "After training completes, you can copy the results back to your Google Drive:\n",
    "\n",
    "```python\n",
    "!cp -r checkpoints/ /content/drive/MyDrive/NeuroProfiler/\n",
    "!cp -r trials/ /content/drive/MyDrive/NeuroProfiler/\n",
    "```"
   ]
  }
 ],
 "metadata": {
  "accelerator": "GPU",
  "colab": {
   "name": "NeuroProfiler Training",
   "provenance": []
  },
  "kernelspec": {
   "display_name": "Python 3",
   "language": "python",
   "name": "python3"
  },
  "language_info": {
   "codemirror_mode": {
    "name": "ipython",
    "version": 3
   },
   "file_extension": ".py",
   "mimetype": "text/x-python",
   "name": "python",
   "nbconvert_exporter": "python",
   "pygments_lexer": "ipython3",
   "version": "3.8.0"
  }
 },
 "nbformat": 4,
 "nbformat_minor": 4
} 